{
 "cells": [
  {
   "cell_type": "markdown",
   "metadata": {},
   "source": [
    "We can investigate the association between cell types and complex traits by calculating enrichment scores, such as scDRS.\n",
    "all file you need is genotype, gwas summary, single cell(anndata.h5ad)"
   ]
  },
  {
   "cell_type": "code",
   "execution_count": null,
   "metadata": {},
   "outputs": [],
   "source": [
    "import pandas as pd\n",
    "import os\n",
    "import scanpy as sc\n",
    "import scdrs\n",
    "import re"
   ]
  },
  {
   "cell_type": "markdown",
   "metadata": {},
   "source": [
    "### 1.Get gene-based analysis from GWAS summary：magma analysis"
   ]
  },
  {
   "cell_type": "markdown",
   "metadata": {},
   "source": [
    "##### (optional) first make gene annotation file from gtf, you can also download () , it's advisable to remake gene annotation for specific genotype. "
   ]
  },
  {
   "cell_type": "code",
   "execution_count": null,
   "metadata": {},
   "outputs": [],
   "source": [
    "### make gene loc file\n",
    "gtf_file = \"./genes.gtf\"\n",
    "output_file = \"./pig.gene.loc\"\n",
    "\n",
    "with open(gtf_file, \"r\") as f:\n",
    "    with open(output_file, \"w\") as out:\n",
    "        for line in f:\n",
    "            if not line.startswith(\"#\"):\n",
    "                fields = line.strip().split(\"\\t\")\n",
    "                if fields[2] == \"gene\":\n",
    "                    attributes = dict(re.findall(r\"(\\w+)\\s\\\"([\\w\\.]+)\\\";\", fields[8]))\n",
    "                    chrom = fields[0]\n",
    "                    start = fields[3]\n",
    "                    end = fields[4]\n",
    "                    gene_id = attributes[\"gene_id\"]\n",
    "                    gene_name = attributes.get(\"gene_name\", \"NA\")\n",
    "                    out.write(f\"{gene_id}\\t{chrom}\\t{start}\\t{end}\\t{gene_name}\\n\")\n"
   ]
  },
  {
   "cell_type": "markdown",
   "metadata": {},
   "source": [
    "##### 1.1 The previous step generated the pig.gene.loc file. Enter the command `magma --annotate` to generate the \"pig.genes.annot\" file, and specify the snpid （plink format bim file）."
   ]
  },
  {
   "cell_type": "code",
   "execution_count": null,
   "metadata": {
    "vscode": {
     "languageId": "shellscript"
    }
   },
   "outputs": [],
   "source": [
    "magma --annotate window=10,10\\\n",
    "    --snp-loc {snpid} \\\n",
    "    --gene-loc ./pig.gene.loc \\\n",
    "    --out ./pig"
   ]
  },
  {
   "cell_type": "markdown",
   "metadata": {
    "vscode": {
     "languageId": "shellscript"
    }
   },
   "source": [
    "##### 1.2 Prepare GWAS summary statistics, rsid and pval are needed. (if meta-GWAS provided and a column of sample sizes per SNP is available in [PVAL_FILE],  ‘ncol=[N_COLUMN_NAME]’ for the --pval flag (instead of ‘N=[N]’).  )"
   ]
  },
  {
   "cell_type": "code",
   "execution_count": null,
   "metadata": {
    "vscode": {
     "languageId": "shellscript"
    }
   },
   "outputs": [],
   "source": [
    "magma \n",
    "--bfile {genotype} \\ ### plink format\n",
    "--pval {gwas_summary} use=rs,p_wald N=2797 \\ ### rs,pval were column names of GWAS summary statistics\n",
    "--gene-annot {gene_anno} \\ \n",
    "--out {outdir}"
   ]
  },
  {
   "cell_type": "markdown",
   "metadata": {},
   "source": [
    "This step generates the out.genes.out file, which contains the information required for gene-based analysis."
   ]
  },
  {
   "cell_type": "markdown",
   "metadata": {},
   "source": [
    "##### 1.3 extract magma zscore top1000 genes"
   ]
  },
  {
   "cell_type": "code",
   "execution_count": null,
   "metadata": {},
   "outputs": [],
   "source": [
    "### 此处你可以根据实际情况做一些修改，目的是提取出一列基因，一列pval，而且顺序是按zscore排序的前1000个\n",
    "df=pd.read_csv('./out.genes.out',delim_whitespace=True)\n",
    "sorted_df = df.sort_values(by='ZSTAT', ascending=False)\n",
    "new_df=sorted_df.iloc[:1000,:]\n",
    "new_df.to_csv(f'./{Trait}_magma_gene_ztop1000.tsv',sep='\\t',index=False)"
   ]
  },
  {
   "cell_type": "markdown",
   "metadata": {},
   "source": [
    "### 2.Enrichment analysis——scDRS"
   ]
  },
  {
   "cell_type": "markdown",
   "metadata": {},
   "source": [
    "##### 2.1 Imputation of gene expression levels for single-cell data."
   ]
  },
  {
   "cell_type": "code",
   "execution_count": null,
   "metadata": {
    "vscode": {
     "languageId": "shellscript"
    }
   },
   "outputs": [],
   "source": [
    "### you can download imputation.py from github\n",
    "python imputation.py \\\n",
    "-i {filename} \\ \n",
    "--h5ad ./singlecell.h5ad \\ \n",
    "-o ./singlecell_impute\n",
    "# i: Specify the custom filename\n",
    "# --h5ad: Input the h5ad file for single-cell analysis data\n",
    "# -o: Output directory\n",
    "# After running, it will generate a file named {filenamei}_impute.h5ad, which is the h5ad file with imputed expression levels."
   ]
  },
  {
   "cell_type": "markdown",
   "metadata": {},
   "source": [
    "##### 2.2 To generate the gene set (gs) file using scdrs munge-gs, which creates a gene weight file based on the output from the previous step (magma_gene_ztop1000.tsv), you can follow these steps:"
   ]
  },
  {
   "cell_type": "code",
   "execution_count": null,
   "metadata": {
    "vscode": {
     "languageId": "shellscript"
    }
   },
   "outputs": [],
   "source": [
    "#生成gs文件\n",
    "scdrs munge-gs \\\n",
    "    --out_file ./{Trait}.gs \\\n",
    "    --pval-file ./{Trait}_magma_gene_ztop1000.tsv \\\n",
    "    --weight zscore \\\n",
    "    --n-max 1000 \\\n",
    "    --fdr 0.05\n"
   ]
  },
  {
   "cell_type": "markdown",
   "metadata": {},
   "source": [
    "##### 2.3 To generate enrichment scores for each cell in a single-cell atlas using scdrs compute-score, you can follow these steps:"
   ]
  },
  {
   "cell_type": "markdown",
   "metadata": {},
   "source": [
    "In the command, the --h5ad option should include the annotated single-cell data in h5ad format, while the --gs-file option should specify the gene set file obtained from the previous step. "
   ]
  },
  {
   "cell_type": "code",
   "execution_count": null,
   "metadata": {
    "vscode": {
     "languageId": "powershell"
    }
   },
   "outputs": [],
   "source": [
    "scdrs compute-score \\\n",
    "    --h5ad-file ./{filename}_impute.h5ad \\\n",
    "    --h5ad-species pig \\\n",
    "    --gs-file ./{Trait}.gs \\\n",
    "    --gs-species pig \\\n",
    "    --out-folder ./compute_score"
   ]
  },
  {
   "cell_type": "markdown",
   "metadata": {},
   "source": [
    "##### 2.4 To perform statistical tests using scdrs perform-downstream, you can use the following command structure:"
   ]
  },
  {
   "cell_type": "markdown",
   "metadata": {
    "vscode": {
     "languageId": "powershell"
    }
   },
   "source": [
    "--score-file scores_file.h5ad: Input the score file obtained from the previous step, which contains the enrichment scores for each cell.\n",
    "--group-analysis cell_type_annotation: Specify the name of the cell type annotation used during single-cell analysis, corresponding to an entry in adata.obs."
   ]
  },
  {
   "cell_type": "code",
   "execution_count": null,
   "metadata": {
    "vscode": {
     "languageId": "shellscript"
    }
   },
   "outputs": [],
   "source": [
    "scdrs perform-downstream \\\n",
    "        --h5ad-file ./{filename}_impute.h5ad \\\n",
    "        --score-file ./{Trait}.full_score.gz \\\n",
    "        --out-folder ./subc_score \\\n",
    "        --group-analysis Lineage \\ # one factor from adata.obs\n",
    "        --flag-filter-data True \\\n",
    "        --flag-raw-count True"
   ]
  },
  {
   "cell_type": "markdown",
   "metadata": {},
   "source": [
    "### 3.visualization"
   ]
  },
  {
   "cell_type": "markdown",
   "metadata": {},
   "source": [
    "##### 3.1 umap visualization"
   ]
  },
  {
   "cell_type": "code",
   "execution_count": null,
   "metadata": {},
   "outputs": [],
   "source": [
    "adata=sc.read_h5ad(f'./{filename}_impute.h5ad')\n",
    "dict_score = {\n",
    "    trait: pd.read_csv(f\"./{Trait}.full_score.gz\", sep=\"\\t\", index_col=0)\n",
    "    for trait in df.index\n",
    "}\n",
    "\n",
    "for trait in dict_score:\n",
    "    adata.obs[trait] = dict_score[trait][\"norm_score\"]\n",
    "\n",
    "sc.set_figure_params(figsize=[2.5, 2.5], dpi=150)\n",
    "sc.pl.umap(\n",
    "    adata,\n",
    "    color=\"Lineage\",\n",
    "    ncols=1,\n",
    "    color_map=\"RdBu_r\",\n",
    "    vmin=-5,\n",
    "    vmax=5,\n",
    ")\n",
    "\n",
    "sc.pl.umap(\n",
    "    adata,\n",
    "    color=dict_score.keys(),\n",
    "    color_map=\"RdBu_r\",\n",
    "    vmin=-5,\n",
    "    vmax=5,\n",
    "    s=10,\n",
    "    hspace=0.5,\n",
    "    wspace=0.5)"
   ]
  },
  {
   "cell_type": "markdown",
   "metadata": {},
   "source": [
    "##### 3.2 statistical tests visualization"
   ]
  },
  {
   "cell_type": "code",
   "execution_count": null,
   "metadata": {},
   "outputs": [],
   "source": [
    "dict_df_stats = {\n",
    "    trait: pd.read_csv(f\"./{Trait}.scdrs_group.Lineage\", sep=\"\\t\", index_col=0)\n",
    "    for trait in ['Trait']\n",
    "}\n",
    "\n",
    "fig, ax = scdrs.util.plot_group_stats(\n",
    "    dict_df_stats={\n",
    "        trait: df_stats\n",
    "        for trait, df_stats in dict_df_stats.items()\n",
    "    },\n",
    "    plot_kws={\n",
    "        \"vmax\": 0.2,\n",
    "        \"cb_fraction\":0.12\n",
    "    }\n",
    ")"
   ]
  }
 ],
 "metadata": {
  "language_info": {
   "name": "python"
  }
 },
 "nbformat": 4,
 "nbformat_minor": 2
}
